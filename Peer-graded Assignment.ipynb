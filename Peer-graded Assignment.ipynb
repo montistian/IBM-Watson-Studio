{
    "cells": [
        {
            "cell_type": "markdown",
            "metadata": {
                "collapsed": true
            },
            "source": "# My Jupyter Notebook on IBM Watson Studio"
        },
        {
            "cell_type": "markdown",
            "metadata": {},
            "source": "**Cristian Montillo** \n<br>\nFinancial Engineer"
        },
        {
            "cell_type": "markdown",
            "metadata": {},
            "source": "*I am interested in data science because I want to better understand the world with the help of data.*"
        },
        {
            "cell_type": "markdown",
            "metadata": {},
            "source": "### This code will return the result of this expression: 100 / 2"
        },
        {
            "cell_type": "code",
            "execution_count": 4,
            "metadata": {},
            "outputs": [
                {
                    "data": {
                        "text/plain": "50.0"
                    },
                    "execution_count": 4,
                    "metadata": {},
                    "output_type": "execute_result"
                }
            ],
            "source": "100/2"
        },
        {
            "cell_type": "markdown",
            "metadata": {},
            "source": "## Conclusions\n<br>\nIn this assignment, with the application of Jupyter Notebook on IBM Watson Studio we:\n\n* created our own Jupyter Notebook\n* shared it via a public link.\n\nThe created script includes:\n1. markdown cells\n2. a single code cells\n\n\n    "
        },
        {
            "cell_type": "code",
            "execution_count": null,
            "metadata": {},
            "outputs": [],
            "source": ""
        }
    ],
    "metadata": {
        "kernelspec": {
            "display_name": "Python 3.6",
            "language": "python",
            "name": "python3"
        },
        "language_info": {
            "codemirror_mode": {
                "name": "ipython",
                "version": 3
            },
            "file_extension": ".py",
            "mimetype": "text/x-python",
            "name": "python",
            "nbconvert_exporter": "python",
            "pygments_lexer": "ipython3",
            "version": "3.6.9"
        }
    },
    "nbformat": 4,
    "nbformat_minor": 1
}